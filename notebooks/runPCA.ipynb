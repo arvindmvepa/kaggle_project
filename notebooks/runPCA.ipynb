{
 "cells": [
  {
   "cell_type": "code",
   "execution_count": 9,
   "metadata": {},
   "outputs": [],
   "source": [
    "import numpy as np\n",
    "import pandas as pd \n",
    "%matplotlib inline\n",
    "import matplotlib.pyplot as plt\n",
    "from sklearn.preprocessing import StandardScaler\n",
    "import pickle    \n",
    "from sklearn.decomposition import PCA"
   ]
  },
  {
   "cell_type": "code",
   "execution_count": 3,
   "metadata": {},
   "outputs": [],
   "source": [
    "X_save_scaled = \"X_tr_scaled.csv\"\n",
    "X_train_scaled = pd.read_csv(X_save_scaled, index_col=0)"
   ]
  },
  {
   "cell_type": "markdown",
   "metadata": {},
   "source": [
    "### PCA on feature vectors"
   ]
  },
  {
   "cell_type": "code",
   "execution_count": 14,
   "metadata": {},
   "outputs": [
    {
     "name": "stdout",
     "output_type": "stream",
     "text": [
      "X_train_scaled shape:  (4194, 138)\n",
      "4194\n",
      "PCA explained variance ratio (first 50 components): [4.67527491e-01 1.31896039e-01 8.03803322e-02 6.13857166e-02\n",
      " 2.83457425e-02 2.18411289e-02 1.89761955e-02 1.74868597e-02\n",
      " 1.61917596e-02 1.32777708e-02 1.24577647e-02 1.01964819e-02\n",
      " 8.92283770e-03 7.74412458e-03 7.51586380e-03 7.06741373e-03\n",
      " 6.64359994e-03 6.21740502e-03 5.73372613e-03 5.72723554e-03\n",
      " 5.08934278e-03 4.68587039e-03 4.52714989e-03 4.22541710e-03\n",
      " 3.97234346e-03 3.25515367e-03 3.07030383e-03 2.87927045e-03\n",
      " 2.57634585e-03 2.40247232e-03 2.30163654e-03 2.21519737e-03\n",
      " 2.04076390e-03 1.88802447e-03 1.68950822e-03 1.62597775e-03\n",
      " 1.53856217e-03 1.28517069e-03 1.12919068e-03 1.09043997e-03\n",
      " 9.21865495e-04 9.08571010e-04 8.58039842e-04 8.15359517e-04\n",
      " 7.10127135e-04 6.64710549e-04 5.57360593e-04 5.42742164e-04\n",
      " 4.54180773e-04 4.06620159e-04]\n",
      "cumulative variance PCA\n",
      "[46.8 60.  68.  74.1 76.9 79.1 81.  82.7 84.3 85.6 86.8 87.8 88.7 89.5\n",
      " 90.3 91.  91.7 92.3 92.9 93.5 94.  94.5 95.  95.4 95.8 96.1 96.4 96.7\n",
      " 97.  97.2 97.4 97.6 97.8 98.  98.2 98.4 98.6 98.7 98.8 98.9 99.  99.1\n",
      " 99.2 99.3 99.4 99.5 99.6 99.7 99.7 99.7]\n",
      "cumulative variance PCA - 40\n",
      "[46.8 60.  68.  74.1 76.9 79.1 81.  82.7 84.3 85.6 86.8 87.8 88.7 89.5\n",
      " 90.3 91.  91.7 92.3 92.9 93.5 94.  94.5 95.  95.4 95.8 96.1 96.4 96.7\n",
      " 97.  97.2 97.4 97.6 97.8 98.  98.2 98.4 98.6 98.7 98.8 98.9]\n",
      "\n",
      "X_train_scaled.shape:  (4194, 138)\n",
      "(PCA) X_r.shape:  (4194, 40)\n"
     ]
    },
    {
     "name": "stderr",
     "output_type": "stream",
     "text": [
      "/usr/local/lib/python3.6/dist-packages/ipykernel_launcher.py:5: FutureWarning: Method .as_matrix will be removed in a future version. Use .values instead.\n",
      "  \"\"\"\n"
     ]
    }
   ],
   "source": [
    "print(\"X_train_scaled shape: \", X_train_scaled.shape)\n",
    "\n",
    "#need to use numpy array for PCA\n",
    "#Ymat = y_tr.as_matrix()\n",
    "Xmat = X_train_scaled.as_matrix()\n",
    "\n",
    "from sklearn.decomposition import PCA\n",
    "\n",
    "pca = PCA(n_components=50)\n",
    "X_rPCA = pca.fit(Xmat).transform(Xmat)\n",
    "#print(\"X_r\", X_r[1:5])\n",
    "print(len(X_rPCA))\n",
    "\n",
    "print('PCA explained variance ratio (first 50 components): %s'\n",
    "      % str(pca.explained_variance_ratio_))\n",
    "\n",
    "print(\"cumulative variance PCA\")\n",
    "variance = pca.explained_variance_ratio_ #calculate variance ratios\n",
    "\n",
    "var=np.cumsum(np.round(pca.explained_variance_ratio_, decimals=3)*100)\n",
    "print(var) #cumulative sum of variance explained with [n] features\n",
    "\n",
    "\n",
    "pca = PCA(n_components=40)\n",
    "X_rPCA = pca.fit(Xmat).transform(Xmat)\n",
    "print(\"cumulative variance PCA - 40\")\n",
    "variance = pca.explained_variance_ratio_ #calculate variance ratios\n",
    "var=np.cumsum(np.round(pca.explained_variance_ratio_, decimals=3)*100)\n",
    "print(var) #cumulative sum of variance explained with [n] features\n",
    "\n",
    "print(\"\\nX_train_scaled.shape: \",X_train_scaled.shape)\n",
    "print(\"(PCA) X_r.shape: \",X_rPCA.shape)"
   ]
  },
  {
   "cell_type": "markdown",
   "metadata": {},
   "source": [
    "#### first 40 principal components explains 98.9% of variance"
   ]
  },
  {
   "cell_type": "markdown",
   "metadata": {},
   "source": [
    "### Store first 40 Principal Components in CSV File"
   ]
  },
  {
   "cell_type": "code",
   "execution_count": 15,
   "metadata": {},
   "outputs": [
    {
     "name": "stdout",
     "output_type": "stream",
     "text": [
      "         0         1         2         3         4         5         6   \\\n",
      "0 -1.707782 -5.824152  4.164174  3.063484  2.256254 -1.291555  1.424839   \n",
      "1  0.180918 -3.537609  2.575460  0.895112  1.272500 -1.018073 -0.999543   \n",
      "2  2.096105 -6.068341  0.087670 -4.017035 -0.479778  1.052913  1.230662   \n",
      "3  0.746197 -6.333834  2.511265  0.102013  1.290148 -0.463808  0.216619   \n",
      "4  1.565481 -6.033322  0.171320 -2.634847  0.861736  0.912279 -0.729451   \n",
      "\n",
      "         7         8         9   ...        30        31        32        33  \\\n",
      "0  1.670842  0.492752 -0.977421  ... -0.392565  0.058343 -0.190610 -0.141875   \n",
      "1 -0.034798  0.055512  1.210268  ...  0.618187  0.776537  0.113583 -0.563857   \n",
      "2 -1.995125 -1.251951 -1.265431  ...  0.055056  0.854643 -0.129930 -0.194502   \n",
      "3 -0.467807 -0.088657  0.438997  ...  0.558170  0.465360 -0.529707 -0.583279   \n",
      "4  0.024121  1.002260 -0.146339  ... -0.373145  0.109356 -0.077359 -0.217352   \n",
      "\n",
      "         34        35        36        37        38        39  \n",
      "0 -0.933366  0.254749 -0.372671  0.099527 -0.095753 -0.047495  \n",
      "1 -0.089476  0.074449 -0.212554 -0.014013  0.013983  0.067100  \n",
      "2 -0.385775  0.081431  0.612061 -0.024465 -0.612716 -0.380493  \n",
      "3  0.382907 -0.267771 -0.128919 -0.002951 -0.023342 -0.564508  \n",
      "4  0.102746  1.241496  0.231679  0.319883  0.362044  0.277223  \n",
      "\n",
      "[5 rows x 40 columns]\n",
      "(4194, 40)\n"
     ]
    }
   ],
   "source": [
    "X_rPCA_df=pd.DataFrame(X_rPCA)\n",
    "print(X_rPCA_df.head())\n",
    "print(X_rPCA_df.shape)\n",
    "X_rPCA_df.to_csv('PCA-40.csv', index=False)\n",
    "\n",
    "import pickle\n",
    "filename = 'PCA-FeatureVectors.pkl'\n",
    "outfile = open(filename,'wb')\n",
    "pickle.dump(X_rPCA_df,outfile)\n",
    "outfile.close()"
   ]
  },
  {
   "cell_type": "code",
   "execution_count": 16,
   "metadata": {},
   "outputs": [
    {
     "name": "stdout",
     "output_type": "stream",
     "text": [
      "         0         1         2         3         4         5         6   \\\n",
      "0 -1.707782 -5.824152  4.164174  3.063484  2.256254 -1.291555  1.424839   \n",
      "1  0.180918 -3.537609  2.575460  0.895112  1.272500 -1.018073 -0.999543   \n",
      "2  2.096105 -6.068341  0.087670 -4.017035 -0.479778  1.052913  1.230662   \n",
      "3  0.746197 -6.333834  2.511265  0.102013  1.290148 -0.463808  0.216619   \n",
      "4  1.565481 -6.033322  0.171320 -2.634847  0.861736  0.912279 -0.729451   \n",
      "\n",
      "         7         8         9   ...        30        31        32        33  \\\n",
      "0  1.670842  0.492752 -0.977421  ... -0.392565  0.058343 -0.190610 -0.141875   \n",
      "1 -0.034798  0.055512  1.210268  ...  0.618187  0.776537  0.113583 -0.563857   \n",
      "2 -1.995125 -1.251951 -1.265431  ...  0.055056  0.854643 -0.129930 -0.194502   \n",
      "3 -0.467807 -0.088657  0.438997  ...  0.558170  0.465360 -0.529707 -0.583279   \n",
      "4  0.024121  1.002260 -0.146339  ... -0.373145  0.109356 -0.077359 -0.217352   \n",
      "\n",
      "         34        35        36        37        38        39  \n",
      "0 -0.933366  0.254749 -0.372671  0.099527 -0.095753 -0.047495  \n",
      "1 -0.089476  0.074449 -0.212554 -0.014013  0.013983  0.067100  \n",
      "2 -0.385775  0.081431  0.612061 -0.024465 -0.612716 -0.380493  \n",
      "3  0.382907 -0.267771 -0.128919 -0.002951 -0.023342 -0.564508  \n",
      "4  0.102746  1.241496  0.231679  0.319883  0.362044  0.277223  \n",
      "\n",
      "[5 rows x 40 columns]\n"
     ]
    }
   ],
   "source": [
    "print(str(X_rPCA_df.head()))"
   ]
  },
  {
   "cell_type": "markdown",
   "metadata": {},
   "source": [
    "### PCA on acoustic"
   ]
  },
  {
   "cell_type": "code",
   "execution_count": 6,
   "metadata": {},
   "outputs": [],
   "source": [
    "#train.csv gave Memory errors on laptop, so use first million rows and store in train1.csv\n",
    "train = pd.read_csv('train1.csv', dtype={'acoustic_data': np.int16, 'time_to_failure': np.float64})"
   ]
  },
  {
   "cell_type": "code",
   "execution_count": 7,
   "metadata": {},
   "outputs": [
    {
     "name": "stdout",
     "output_type": "stream",
     "text": [
      "PCA explained variance ratio (first 50 components): [9.99861918e-01 1.38081910e-04]\n",
      "cumulative variance PCA\n",
      "[100. 100.]\n"
     ]
    },
    {
     "name": "stderr",
     "output_type": "stream",
     "text": [
      "/usr/local/lib/python3.6/dist-packages/ipykernel_launcher.py:2: FutureWarning: Method .as_matrix will be removed in a future version. Use .values instead.\n",
      "  \n"
     ]
    }
   ],
   "source": [
    "#need to use numpy array for PCA\n",
    "Xmat = train.as_matrix()\n",
    "    \n",
    "from sklearn.decomposition import PCA\n",
    "\n",
    "pca = PCA(n_components=2)\n",
    "X_r = pca.fit(Xmat).transform(Xmat)\n",
    "\n",
    "print('PCA explained variance ratio (first 50 components): %s'\n",
    "      % str(pca.explained_variance_ratio_))\n",
    "\n",
    "print(\"cumulative variance PCA\")\n",
    "variance = pca.explained_variance_ratio_ #calculate variance ratios\n",
    "\n",
    "var=np.cumsum(np.round(pca.explained_variance_ratio_, decimals=3)*100)\n",
    "print(var) #cumulative sum of variance explained with [n] features"
   ]
  },
  {
   "cell_type": "markdown",
   "metadata": {},
   "source": [
    "### PCA for API"
   ]
  },
  {
   "cell_type": "code",
   "execution_count": 60,
   "metadata": {},
   "outputs": [],
   "source": [
    "def create_PCA_train_features(X_train_scaled, y_tr, N):\n",
    "    \"\"\"\n",
    "    This converts the feature vectors and outcome vector into the first N Principal Components\n",
    "\n",
    "    Parameters\n",
    "    ----------\n",
    "    X_train_scaled : dataframe\n",
    "        A dataframe containing the scaled feature vectors\n",
    "    y_tr: dataframe\n",
    "        A dataframe containing the scaled outcome vector\n",
    "    N: int\n",
    "        The number of Principal Components\n",
    "\n",
    "    Returns\n",
    "    -------\n",
    "    X_rPCA_df, X_rPCA_scaled_df, y_rPCA_df, y_rPCA_scaled_df : Pandas.DataFrame\n",
    "        A DataFrame of the Principal Components\n",
    "    scaler : StandardScaler()\n",
    "    \"\"\"\n",
    "\n",
    "    #print(\"X_train_scaled shape: \", X_train_scaled.shape)\n",
    "\n",
    "    #need to use numpy array for PCA\n",
    "    #Ymat = y_tr.as_matrix()\n",
    "    Xmat = X_train_scaled.as_matrix()\n",
    "\n",
    "    print(N)\n",
    "    print(type(N))\n",
    "    pca = PCA(n_components=N)\n",
    "    X_rPCA = pca.fit(Xmat).transform(Xmat)\n",
    "    #y_rPCA = pca.fit(Ymat).transform(Ymat)\n",
    "\n",
    "    print('PCA explained variance ratio (first %d components): %s' % (N, pca.explained_variance_ratio_))\n",
    "    #print('PCA explained variance ratio (first 50 components): %s'\n",
    "    #      % str(pca.explained_variance_ratio_))\n",
    "\n",
    "    print(\"cumulative variance PCA\")\n",
    "    variance = pca.explained_variance_ratio_ #calculate variance ratios\n",
    "\n",
    "    var=np.cumsum(np.round(pca.explained_variance_ratio_, decimals=3)*100)\n",
    "    \n",
    "    print('cumulative variance PCA: ') #'%f' % var) #cumulative sum of variance explained with [n] features\n",
    "    print(var)\n",
    "    \n",
    "    #print(\"\\nX_train_scaled.shape: \",X_train_scaled.shape)\n",
    "    #print(\"(PCA) X_r.shape: \",X_rPCA.shape)\n",
    "\n",
    "    '''\n",
    "    # scale feature vector\n",
    "    scaler = StandardScaler()\n",
    "    scaler.fit(X_rPCA)\n",
    "    X_rPCA_scaled = pd.DataFrame(scaler.transform(X_rPCA), columns=X_rPCA.columns)\n",
    "    #y_rPCA_scaled = pd.DataFrame(scaler.transform(y_rPCA), columns=y_rPCA.columns)\n",
    "    '''\n",
    "    \n",
    "    #save as pickle\n",
    "    filename = 'PCA-FeatureVectors.pickle'\n",
    "    outfile = open(filename,'wb')\n",
    "    pickle.dump(X_rPCA,outfile)\n",
    "    outfile.close()\n",
    "\n",
    "    '''\n",
    "    filename = 'PCA-FeatureVectors_scaled.pickle'\n",
    "    outfile = open(filename,'wb')\n",
    "    pickle.dump(X_rPCA_scaled,outfile)\n",
    "    outfile.close()\n",
    "   \n",
    "    \n",
    "    filename = 'PCA-yVectors.pickle'\n",
    "    outfile = open(filename,'wb')\n",
    "    pickle.dump(y_rPCA,outfile)\n",
    "    outfile.close()\n",
    "\n",
    "    filename = 'PCA-yVectors_scaled.pickle'\n",
    "    outfile = open(filename,'wb')\n",
    "    pickle.dump(y_rPCA_scaled,outfile)\n",
    "    outfile.close()\n",
    "    '''\n",
    "    \n",
    "    #save as CSV\n",
    "    X_rPCA_df=pd.DataFrame(X_rPCA)\n",
    "    X_rPCA_df.to_csv('PCA-FeatureVectors.csv', index=False)\n",
    "    #X_rPCA_scaled_df=pd.DataFrame(X_rPCA_scaled)\n",
    "    #X_rPCA_scaled_df.to_csv('PCA-FeatureVectors_scaled.csv', index=False)\n",
    "    '''\n",
    "    y_rPCA_df=pd.DataFrame(y_rPCA)\n",
    "    y_rPCA_df.to_csv('PCA-yVectors.csv', index=False)\n",
    "    y_rPCA_scaled_df=pd.DataFrame(y_rPCA_scaled)\n",
    "    y_rPCA_scaled_df.to_csv('PCA-yVectors_scaled.csv', index=False)\n",
    "    '''\n",
    "    \n",
    "    return X_rPCA_df #y_rPCA_df, y_rPCA_scaled_df, scaler\n",
    "\n",
    "def create_PCA_FeatureVectors_head(col_start, col_end, X_rPCA_df):\n",
    "    return X_rPCA_df.iloc[:, col_start:col_end+1].head()"
   ]
  },
  {
   "cell_type": "code",
   "execution_count": 61,
   "metadata": {},
   "outputs": [
    {
     "name": "stdout",
     "output_type": "stream",
     "text": [
      "(4194, 138)\n",
      "40\n",
      "<class 'int'>\n",
      "PCA explained variance ratio (first 40 components): [0.46752749 0.13189604 0.08038033 0.06138572 0.02834574 0.02184113\n",
      " 0.0189762  0.01748686 0.01619176 0.01327777 0.01245776 0.01019648\n",
      " 0.00892284 0.00774412 0.00751586 0.00706741 0.0066436  0.00621741\n",
      " 0.00573373 0.00572724 0.00508934 0.00468587 0.00452715 0.00422542\n",
      " 0.00397234 0.00325515 0.0030703  0.00287927 0.00257635 0.00240247\n",
      " 0.00230164 0.0022152  0.00204076 0.00188802 0.00168951 0.00162598\n",
      " 0.00153856 0.00128514 0.00112918 0.00109043]\n",
      "cumulative variance PCA\n",
      "cumulative variance PCA: \n",
      "[46.8 60.  68.  74.1 76.9 79.1 81.  82.7 84.3 85.6 86.8 87.8 88.7 89.5\n",
      " 90.3 91.  91.7 92.3 92.9 93.5 94.  94.5 95.  95.4 95.8 96.1 96.4 96.7\n",
      " 97.  97.2 97.4 97.6 97.8 98.  98.2 98.4 98.6 98.7 98.8 98.9]\n"
     ]
    },
    {
     "name": "stderr",
     "output_type": "stream",
     "text": [
      "/usr/local/lib/python3.6/dist-packages/ipykernel_launcher.py:25: FutureWarning: Method .as_matrix will be removed in a future version. Use .values instead.\n"
     ]
    },
    {
     "name": "stdout",
     "output_type": "stream",
     "text": [
      "          5         6         7         8\n",
      "0 -1.291555  1.424839  1.670842  0.492752\n",
      "1 -1.018073 -0.999543 -0.034798  0.055512\n",
      "2  1.052913  1.230662 -1.995125 -1.251951\n",
      "3 -0.463808  0.216619 -0.467807 -0.088657\n",
      "4  0.912279 -0.729451  0.024121  1.002260\n"
     ]
    }
   ],
   "source": [
    "print(X_train_scaled.shape)\n",
    "X_rPCA_df = create_PCA_train_features(X_train_scaled, y_tr, 40)\n",
    "createPCAhead=create_PCA_FeatureVectors_head(5, 8, X_rPCA_df)\n",
    "print(createPCAhead)"
   ]
  },
  {
   "cell_type": "code",
   "execution_count": 62,
   "metadata": {},
   "outputs": [],
   "source": [
    "filename = 'createPCAhead.pkl'\n",
    "outfile = open(filename,'wb')\n",
    "pickle.dump(createPCAhead,outfile)\n",
    "outfile.close()"
   ]
  },
  {
   "cell_type": "code",
   "execution_count": 56,
   "metadata": {},
   "outputs": [],
   "source": [
    "def apply_PCAprocessor(create_PCA_FeatureVectors_head,i,j):\n",
    "    \"\"\" Applies an existing keywordProcessor to a given piece of text. \n",
    "    Will return spans by default. \n",
    "    \"\"\"\n",
    "    createPCAhead=create_PCA_FeatureVectors_head(i,j, X_rPCA_df)\n",
    "    return createPCAhead"
   ]
  },
  {
   "cell_type": "code",
   "execution_count": 54,
   "metadata": {},
   "outputs": [],
   "source": [
    "pickle_PCAprocessor = pickle.load(open(\"createPCAhead.pkl\", \"rb\"))"
   ]
  },
  {
   "cell_type": "code",
   "execution_count": 57,
   "metadata": {},
   "outputs": [
    {
     "data": {
      "text/html": [
       "<div>\n",
       "<style scoped>\n",
       "    .dataframe tbody tr th:only-of-type {\n",
       "        vertical-align: middle;\n",
       "    }\n",
       "\n",
       "    .dataframe tbody tr th {\n",
       "        vertical-align: top;\n",
       "    }\n",
       "\n",
       "    .dataframe thead th {\n",
       "        text-align: right;\n",
       "    }\n",
       "</style>\n",
       "<table border=\"1\" class=\"dataframe\">\n",
       "  <thead>\n",
       "    <tr style=\"text-align: right;\">\n",
       "      <th></th>\n",
       "      <th>3</th>\n",
       "      <th>4</th>\n",
       "      <th>5</th>\n",
       "      <th>6</th>\n",
       "    </tr>\n",
       "  </thead>\n",
       "  <tbody>\n",
       "    <tr>\n",
       "      <th>0</th>\n",
       "      <td>3.063484</td>\n",
       "      <td>2.256254</td>\n",
       "      <td>-1.291555</td>\n",
       "      <td>1.424839</td>\n",
       "    </tr>\n",
       "    <tr>\n",
       "      <th>1</th>\n",
       "      <td>0.895112</td>\n",
       "      <td>1.272500</td>\n",
       "      <td>-1.018073</td>\n",
       "      <td>-0.999543</td>\n",
       "    </tr>\n",
       "    <tr>\n",
       "      <th>2</th>\n",
       "      <td>-4.017035</td>\n",
       "      <td>-0.479778</td>\n",
       "      <td>1.052913</td>\n",
       "      <td>1.230662</td>\n",
       "    </tr>\n",
       "    <tr>\n",
       "      <th>3</th>\n",
       "      <td>0.102013</td>\n",
       "      <td>1.290148</td>\n",
       "      <td>-0.463808</td>\n",
       "      <td>0.216619</td>\n",
       "    </tr>\n",
       "    <tr>\n",
       "      <th>4</th>\n",
       "      <td>-2.634847</td>\n",
       "      <td>0.861736</td>\n",
       "      <td>0.912279</td>\n",
       "      <td>-0.729451</td>\n",
       "    </tr>\n",
       "  </tbody>\n",
       "</table>\n",
       "</div>"
      ],
      "text/plain": [
       "          3         4         5         6\n",
       "0  3.063484  2.256254 -1.291555  1.424839\n",
       "1  0.895112  1.272500 -1.018073 -0.999543\n",
       "2 -4.017035 -0.479778  1.052913  1.230662\n",
       "3  0.102013  1.290148 -0.463808  0.216619\n",
       "4 -2.634847  0.861736  0.912279 -0.729451"
      ]
     },
     "execution_count": 57,
     "metadata": {},
     "output_type": "execute_result"
    }
   ],
   "source": [
    "apply_PCAprocessor(pickle_PCAprocessor, 3,6) "
   ]
  },
  {
   "cell_type": "code",
   "execution_count": 19,
   "metadata": {},
   "outputs": [
    {
     "name": "stderr",
     "output_type": "stream",
     "text": [
      "/usr/local/lib/python3.6/dist-packages/ipykernel_launcher.py:1: FutureWarning: Method .as_matrix will be removed in a future version. Use .values instead.\n",
      "  \"\"\"Entry point for launching an IPython kernel.\n"
     ]
    }
   ],
   "source": [
    "Xmat = X_train_scaled.as_matrix()\n",
    "N=40\n",
    "model = PCA(n_components=N)\n",
    "X_rPCA = pca.fit(Xmat).transform(Xmat)\n",
    "X_rPCA_df=pd.DataFrame(X_rPCA)\n",
    "\n",
    "filename = 'PCA_features.pickle'\n",
    "outfile = open(filename,'wb')\n",
    "pickle.dump(X_rPCA_df,outfile)\n",
    "outfile.close()\n",
    "            \n",
    "filename = 'PCA_features2.pickle'\n",
    "outfile = open(filename,'wb')\n",
    "pickle.dump(X_rPCA_df,outfile, protocol=2)\n",
    "outfile.close()\n",
    "\n",
    "#with open('PCA_features', 'wb') as handle:\n",
    "#    pickle.dump(X_rPCA_df, handle, protocol=pickle.HIGHEST_PROTOCOL)"
   ]
  },
  {
   "cell_type": "code",
   "execution_count": 20,
   "metadata": {},
   "outputs": [],
   "source": [
    "PCA_df= pickle.load(open(\"PCA_features.pickle\", \"rb\"))"
   ]
  },
  {
   "cell_type": "code",
   "execution_count": 21,
   "metadata": {},
   "outputs": [
    {
     "data": {
      "text/html": [
       "<div>\n",
       "<style scoped>\n",
       "    .dataframe tbody tr th:only-of-type {\n",
       "        vertical-align: middle;\n",
       "    }\n",
       "\n",
       "    .dataframe tbody tr th {\n",
       "        vertical-align: top;\n",
       "    }\n",
       "\n",
       "    .dataframe thead th {\n",
       "        text-align: right;\n",
       "    }\n",
       "</style>\n",
       "<table border=\"1\" class=\"dataframe\">\n",
       "  <thead>\n",
       "    <tr style=\"text-align: right;\">\n",
       "      <th></th>\n",
       "      <th>0</th>\n",
       "      <th>1</th>\n",
       "      <th>2</th>\n",
       "      <th>3</th>\n",
       "      <th>4</th>\n",
       "      <th>5</th>\n",
       "      <th>6</th>\n",
       "      <th>7</th>\n",
       "      <th>8</th>\n",
       "      <th>9</th>\n",
       "      <th>...</th>\n",
       "      <th>30</th>\n",
       "      <th>31</th>\n",
       "      <th>32</th>\n",
       "      <th>33</th>\n",
       "      <th>34</th>\n",
       "      <th>35</th>\n",
       "      <th>36</th>\n",
       "      <th>37</th>\n",
       "      <th>38</th>\n",
       "      <th>39</th>\n",
       "    </tr>\n",
       "  </thead>\n",
       "  <tbody>\n",
       "    <tr>\n",
       "      <th>0</th>\n",
       "      <td>-1.707782</td>\n",
       "      <td>-5.824152</td>\n",
       "      <td>4.164174</td>\n",
       "      <td>3.063484</td>\n",
       "      <td>2.256254</td>\n",
       "      <td>-1.291555</td>\n",
       "      <td>1.424839</td>\n",
       "      <td>1.670842</td>\n",
       "      <td>0.492752</td>\n",
       "      <td>-0.977421</td>\n",
       "      <td>...</td>\n",
       "      <td>-0.392576</td>\n",
       "      <td>0.058352</td>\n",
       "      <td>-0.190605</td>\n",
       "      <td>-0.141805</td>\n",
       "      <td>-0.933304</td>\n",
       "      <td>0.254819</td>\n",
       "      <td>-0.372708</td>\n",
       "      <td>0.099238</td>\n",
       "      <td>-0.096070</td>\n",
       "      <td>-0.047665</td>\n",
       "    </tr>\n",
       "    <tr>\n",
       "      <th>1</th>\n",
       "      <td>0.180918</td>\n",
       "      <td>-3.537609</td>\n",
       "      <td>2.575460</td>\n",
       "      <td>0.895112</td>\n",
       "      <td>1.272500</td>\n",
       "      <td>-1.018073</td>\n",
       "      <td>-0.999543</td>\n",
       "      <td>-0.034798</td>\n",
       "      <td>0.055512</td>\n",
       "      <td>1.210268</td>\n",
       "      <td>...</td>\n",
       "      <td>0.618212</td>\n",
       "      <td>0.776544</td>\n",
       "      <td>0.113591</td>\n",
       "      <td>-0.563931</td>\n",
       "      <td>-0.089532</td>\n",
       "      <td>0.074386</td>\n",
       "      <td>-0.212294</td>\n",
       "      <td>-0.013191</td>\n",
       "      <td>0.014118</td>\n",
       "      <td>0.066887</td>\n",
       "    </tr>\n",
       "    <tr>\n",
       "      <th>2</th>\n",
       "      <td>2.096105</td>\n",
       "      <td>-6.068341</td>\n",
       "      <td>0.087670</td>\n",
       "      <td>-4.017035</td>\n",
       "      <td>-0.479778</td>\n",
       "      <td>1.052913</td>\n",
       "      <td>1.230662</td>\n",
       "      <td>-1.995125</td>\n",
       "      <td>-1.251951</td>\n",
       "      <td>-1.265431</td>\n",
       "      <td>...</td>\n",
       "      <td>0.055022</td>\n",
       "      <td>0.854645</td>\n",
       "      <td>-0.129893</td>\n",
       "      <td>-0.194430</td>\n",
       "      <td>-0.385760</td>\n",
       "      <td>0.081511</td>\n",
       "      <td>0.611877</td>\n",
       "      <td>-0.026093</td>\n",
       "      <td>-0.613164</td>\n",
       "      <td>-0.380925</td>\n",
       "    </tr>\n",
       "    <tr>\n",
       "      <th>3</th>\n",
       "      <td>0.746197</td>\n",
       "      <td>-6.333834</td>\n",
       "      <td>2.511265</td>\n",
       "      <td>0.102013</td>\n",
       "      <td>1.290148</td>\n",
       "      <td>-0.463808</td>\n",
       "      <td>0.216619</td>\n",
       "      <td>-0.467807</td>\n",
       "      <td>-0.088657</td>\n",
       "      <td>0.438997</td>\n",
       "      <td>...</td>\n",
       "      <td>0.558215</td>\n",
       "      <td>0.465429</td>\n",
       "      <td>-0.529695</td>\n",
       "      <td>-0.583358</td>\n",
       "      <td>0.382821</td>\n",
       "      <td>-0.267639</td>\n",
       "      <td>-0.128537</td>\n",
       "      <td>-0.002858</td>\n",
       "      <td>-0.022430</td>\n",
       "      <td>-0.564367</td>\n",
       "    </tr>\n",
       "    <tr>\n",
       "      <th>4</th>\n",
       "      <td>1.565481</td>\n",
       "      <td>-6.033322</td>\n",
       "      <td>0.171320</td>\n",
       "      <td>-2.634847</td>\n",
       "      <td>0.861736</td>\n",
       "      <td>0.912279</td>\n",
       "      <td>-0.729451</td>\n",
       "      <td>0.024121</td>\n",
       "      <td>1.002260</td>\n",
       "      <td>-0.146339</td>\n",
       "      <td>...</td>\n",
       "      <td>-0.373170</td>\n",
       "      <td>0.109360</td>\n",
       "      <td>-0.077317</td>\n",
       "      <td>-0.217440</td>\n",
       "      <td>0.102754</td>\n",
       "      <td>1.241245</td>\n",
       "      <td>0.231757</td>\n",
       "      <td>0.321101</td>\n",
       "      <td>0.361198</td>\n",
       "      <td>0.275797</td>\n",
       "    </tr>\n",
       "  </tbody>\n",
       "</table>\n",
       "<p>5 rows × 40 columns</p>\n",
       "</div>"
      ],
      "text/plain": [
       "         0         1         2         3         4         5         6   \\\n",
       "0 -1.707782 -5.824152  4.164174  3.063484  2.256254 -1.291555  1.424839   \n",
       "1  0.180918 -3.537609  2.575460  0.895112  1.272500 -1.018073 -0.999543   \n",
       "2  2.096105 -6.068341  0.087670 -4.017035 -0.479778  1.052913  1.230662   \n",
       "3  0.746197 -6.333834  2.511265  0.102013  1.290148 -0.463808  0.216619   \n",
       "4  1.565481 -6.033322  0.171320 -2.634847  0.861736  0.912279 -0.729451   \n",
       "\n",
       "         7         8         9   ...        30        31        32        33  \\\n",
       "0  1.670842  0.492752 -0.977421  ... -0.392576  0.058352 -0.190605 -0.141805   \n",
       "1 -0.034798  0.055512  1.210268  ...  0.618212  0.776544  0.113591 -0.563931   \n",
       "2 -1.995125 -1.251951 -1.265431  ...  0.055022  0.854645 -0.129893 -0.194430   \n",
       "3 -0.467807 -0.088657  0.438997  ...  0.558215  0.465429 -0.529695 -0.583358   \n",
       "4  0.024121  1.002260 -0.146339  ... -0.373170  0.109360 -0.077317 -0.217440   \n",
       "\n",
       "         34        35        36        37        38        39  \n",
       "0 -0.933304  0.254819 -0.372708  0.099238 -0.096070 -0.047665  \n",
       "1 -0.089532  0.074386 -0.212294 -0.013191  0.014118  0.066887  \n",
       "2 -0.385760  0.081511  0.611877 -0.026093 -0.613164 -0.380925  \n",
       "3  0.382821 -0.267639 -0.128537 -0.002858 -0.022430 -0.564367  \n",
       "4  0.102754  1.241245  0.231757  0.321101  0.361198  0.275797  \n",
       "\n",
       "[5 rows x 40 columns]"
      ]
     },
     "execution_count": 21,
     "metadata": {},
     "output_type": "execute_result"
    }
   ],
   "source": [
    "PCA_df.head()"
   ]
  },
  {
   "cell_type": "code",
   "execution_count": null,
   "metadata": {},
   "outputs": [],
   "source": []
  }
 ],
 "metadata": {
  "kernelspec": {
   "display_name": "Python 3",
   "language": "python",
   "name": "python3"
  },
  "language_info": {
   "codemirror_mode": {
    "name": "ipython",
    "version": 3
   },
   "file_extension": ".py",
   "mimetype": "text/x-python",
   "name": "python",
   "nbconvert_exporter": "python",
   "pygments_lexer": "ipython3",
   "version": "3.6.8"
  }
 },
 "nbformat": 4,
 "nbformat_minor": 2
}
