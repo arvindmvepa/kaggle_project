{
 "cells": [
  {
   "cell_type": "code",
   "execution_count": 1,
   "metadata": {},
   "outputs": [],
   "source": [
    "from exp.features import create_train_features\n",
    "from exp.run import run_experiment\n",
    "# when code updates, add to sys.path"
   ]
  },
  {
   "cell_type": "code",
   "execution_count": 2,
   "metadata": {
    "scrolled": true
   },
   "outputs": [
    {
     "data": {
      "text/plain": [
       "HBox(children=(IntProgress(value=0, max=4194), HTML(value='')))"
      ]
     },
     "metadata": {},
     "output_type": "display_data"
    },
    {
     "name": "stdout",
     "output_type": "stream",
     "text": [
      "\n",
      "4194 samples in new train data and 138 columns.\n"
     ]
    }
   ],
   "source": [
    "X_tr, y_tr = create_train_features(r'C:\\Users\\arvin\\dev\\lanl\\train.csv')"
   ]
  },
  {
   "cell_type": "code",
   "execution_count": 3,
   "metadata": {},
   "outputs": [],
   "source": [
    "# example hyper-parameter experiments for different algorithms\n",
    "params={\"lr\": {\"fit_intercept\": [False, True], \"normalize\": [False, True]},\n",
    "       \"ridge\": {\"alpha\": [.000001, .00001, .0001, .001, .01, .1],\n",
    "                 \"fit_intercept\": [False, True], \"normalize\": [False, True]},\n",
    "       \"lasso\": {\"alpha\": [.000001, .00001, .0001, .001, .01, .1],\n",
    "                 \"fit_intercept\": [False, True], \"normalize\": [False, True]},\n",
    "       \"elastic\": {\"alpha\": [.000001, .00001, .0001, .001, .01, .1],\n",
    "                   \"fit_intercept\": [False, True], \"normalize\": [False, True],\n",
    "                  \"l1_ratio\": [.01, .99, .2, .4, .6, .8]},\n",
    "       \"dtreg\": {\"criterion\": [\"mse\", \"friedman_mse\", \"mae\"],\n",
    "                 \"splitter\": [\"best\", \"best\", \"random\"],\n",
    "                \"max_depth\": [None, None, None, 5,10,20,50]},\n",
    "       \"rfreg\": {\"n_estimators\": [5, 10, 50, 100, 200, 100],\n",
    "                 \"criterion\": [\"mse\", \"friedman_mse\", \"mae\"],\n",
    "                 \"splitter\": [\"best\", \"best\", \"random\"],\n",
    "                \"max_depth\": [None, None, None, 5,10,20,50]},\n",
    "       \"abreg\": {\"n_estimators\": [5, 10, 50, 100, 200, 100],\n",
    "                 \"learning_rate \": [1, .9, .5, .1],\n",
    "                 \"loss\": [\"linear\", \"square\", \"exponential\"]},\n",
    "       \"gbreg\": {\"n_estimators\": [5, 10, 50, 100, 200, 100],\n",
    "                 \"learning_rate \": [1, .9, .5, .1],\n",
    "                 \"loss\": [\"ls\", \"lad\", \"huber\", \"quantile\"],\n",
    "                 \"subsample\": [.1, .2, .5, 1.0]}}"
   ]
  },
  {
   "cell_type": "code",
   "execution_count": 4,
   "metadata": {},
   "outputs": [],
   "source": [
    "save_results= \"save.csv\""
   ]
  },
  {
   "cell_type": "code",
   "execution_count": 5,
   "metadata": {},
   "outputs": [
    {
     "name": "stdout",
     "output_type": "stream",
     "text": [
      "Fold 0 started at Sat Mar 16 06:40:33 2019\n",
      "Fold 0. MAE: 5.9876.\n",
      "\n",
      "Fold 1 started at Sat Mar 16 06:40:33 2019\n",
      "Fold 1. MAE: 6.0462.\n",
      "\n",
      "Fold 2 started at Sat Mar 16 06:40:33 2019\n",
      "Fold 2. MAE: 6.3440.\n",
      "\n",
      "Fold 3 started at Sat Mar 16 06:40:33 2019\n",
      "Fold 3. MAE: 6.0462.\n",
      "\n",
      "Fold 4 started at Sat Mar 16 06:40:33 2019\n",
      "Fold 4. MAE: 6.2757.\n",
      "\n",
      "Fold 5 started at Sat Mar 16 06:40:33 2019\n",
      "Fold 5. MAE: 6.0887.\n",
      "\n",
      "Fold 6 started at Sat Mar 16 06:40:33 2019\n",
      "Fold 6. MAE: 6.2404.\n",
      "\n",
      "Fold 7 started at Sat Mar 16 06:40:33 2019\n",
      "Fold 7. MAE: 6.2784.\n",
      "\n",
      "Fold 8 started at Sat Mar 16 06:40:33 2019\n",
      "Fold 8. MAE: 5.8825.\n",
      "\n",
      "Fold 9 started at Sat Mar 16 06:40:33 2019\n",
      "Fold 9. MAE: 6.0093.\n",
      "\n",
      "CV mean score: 6.1199, mad: 0.1875.\n",
      "Fold 0 started at Sat Mar 16 06:40:33 2019\n",
      "Fold 0. MAE: 2.2102.\n",
      "\n",
      "Fold 1 started at Sat Mar 16 06:40:33 2019\n",
      "Fold 1. MAE: 2.2176.\n",
      "\n",
      "Fold 2 started at Sat Mar 16 06:40:34 2019\n",
      "Fold 2. MAE: 1.9727.\n",
      "\n",
      "Fold 3 started at Sat Mar 16 06:40:34 2019\n",
      "Fold 3. MAE: 2.0808.\n",
      "\n",
      "Fold 4 started at Sat Mar 16 06:40:34 2019\n",
      "Fold 4. MAE: 2.0156.\n",
      "\n",
      "Fold 5 started at Sat Mar 16 06:40:34 2019\n",
      "Fold 5. MAE: 2.3453.\n",
      "\n",
      "Fold 6 started at Sat Mar 16 06:40:34 2019\n",
      "Fold 6. MAE: 2.2460.\n",
      "\n",
      "Fold 7 started at Sat Mar 16 06:40:34 2019\n",
      "Fold 7. MAE: 2.1120.\n",
      "\n",
      "Fold 8 started at Sat Mar 16 06:40:34 2019\n",
      "Fold 8. MAE: 2.1706.\n",
      "\n",
      "Fold 9 started at Sat Mar 16 06:40:34 2019\n",
      "Fold 9. MAE: 2.1096.\n",
      "\n",
      "CV mean score: 2.1480, mad: 0.1077.\n"
     ]
    }
   ],
   "source": [
    "alg = \"ridge\"\n",
    "n_fold=10\n",
    "score_df = run_experiment(X=X_tr, Y=y_tr, n_fold=n_fold, alg=alg, alg_params=params[alg], search_type=\"random\", num_searches=2, save_results=save_results)"
   ]
  },
  {
   "cell_type": "code",
   "execution_count": 6,
   "metadata": {},
   "outputs": [
    {
     "data": {
      "text/html": [
       "<div>\n",
       "<style scoped>\n",
       "    .dataframe tbody tr th:only-of-type {\n",
       "        vertical-align: middle;\n",
       "    }\n",
       "\n",
       "    .dataframe tbody tr th {\n",
       "        vertical-align: top;\n",
       "    }\n",
       "\n",
       "    .dataframe thead th {\n",
       "        text-align: right;\n",
       "    }\n",
       "</style>\n",
       "<table border=\"1\" class=\"dataframe\">\n",
       "  <thead>\n",
       "    <tr style=\"text-align: right;\">\n",
       "      <th></th>\n",
       "      <th>alg</th>\n",
       "      <th>score</th>\n",
       "      <th>mad</th>\n",
       "      <th>params_json</th>\n",
       "    </tr>\n",
       "  </thead>\n",
       "  <tbody>\n",
       "    <tr>\n",
       "      <th>0</th>\n",
       "      <td>ridge</td>\n",
       "      <td>6.119883</td>\n",
       "      <td>0.187462</td>\n",
       "      <td>{\"alpha\": 0.01, \"fit_intercept\": false, \"norma...</td>\n",
       "    </tr>\n",
       "    <tr>\n",
       "      <th>0</th>\n",
       "      <td>ridge</td>\n",
       "      <td>2.148046</td>\n",
       "      <td>0.107693</td>\n",
       "      <td>{\"alpha\": 1e-05, \"fit_intercept\": true, \"norma...</td>\n",
       "    </tr>\n",
       "  </tbody>\n",
       "</table>\n",
       "</div>"
      ],
      "text/plain": [
       "     alg     score       mad  \\\n",
       "0  ridge  6.119883  0.187462   \n",
       "0  ridge  2.148046  0.107693   \n",
       "\n",
       "                                         params_json  \n",
       "0  {\"alpha\": 0.01, \"fit_intercept\": false, \"norma...  \n",
       "0  {\"alpha\": 1e-05, \"fit_intercept\": true, \"norma...  "
      ]
     },
     "metadata": {},
     "output_type": "execute_result"
    }
   ],
   "source": [
    "display(score_df)"
   ]
  },
  {
   "cell_type": "code",
   "execution_count": 7,
   "metadata": {},
   "outputs": [
    {
     "name": "stdout",
     "output_type": "stream",
     "text": [
      "Fold 0 started at Sat Mar 16 06:40:34 2019\n",
      "Fold 0. MAE: 5.9230.\n",
      "\n",
      "Fold 1 started at Sat Mar 16 06:40:36 2019\n",
      "Fold 1. MAE: 6.2144.\n",
      "\n",
      "Fold 2 started at Sat Mar 16 06:40:37 2019\n",
      "Fold 2. MAE: 6.0073.\n",
      "\n",
      "Fold 3 started at Sat Mar 16 06:40:39 2019\n",
      "Fold 3. MAE: 6.1115.\n",
      "\n",
      "Fold 4 started at Sat Mar 16 06:40:40 2019\n",
      "Fold 4. MAE: 5.9880.\n",
      "\n",
      "CV mean score: 6.0488, mad: 0.1249.\n",
      "Fold 0 started at Sat Mar 16 06:40:42 2019\n",
      "Fold 0. MAE: 2.2387.\n",
      "\n",
      "Fold 1 started at Sat Mar 16 06:40:42 2019\n",
      "Fold 1. MAE: 2.2198.\n",
      "\n",
      "Fold 2 started at Sat Mar 16 06:40:42 2019\n",
      "Fold 2. MAE: 2.2266.\n",
      "\n",
      "Fold 3 started at Sat Mar 16 06:40:42 2019\n",
      "Fold 3. MAE: 2.3055.\n",
      "\n",
      "Fold 4 started at Sat Mar 16 06:40:43 2019\n",
      "Fold 4. MAE: 2.2419.\n",
      "\n",
      "CV mean score: 2.2465, mad: 0.0179.\n"
     ]
    }
   ],
   "source": [
    "alg = \"elastic\"\n",
    "score_df = run_experiment(score_df=save_results, X=X_tr, Y=y_tr, n_fold=n_fold, alg=alg, alg_params=params[alg], search_type=\"random\", num_searches=2, save_results=save_results)"
   ]
  },
  {
   "cell_type": "code",
   "execution_count": 8,
   "metadata": {},
   "outputs": [
    {
     "data": {
      "text/html": [
       "<div>\n",
       "<style scoped>\n",
       "    .dataframe tbody tr th:only-of-type {\n",
       "        vertical-align: middle;\n",
       "    }\n",
       "\n",
       "    .dataframe tbody tr th {\n",
       "        vertical-align: top;\n",
       "    }\n",
       "\n",
       "    .dataframe thead th {\n",
       "        text-align: right;\n",
       "    }\n",
       "</style>\n",
       "<table border=\"1\" class=\"dataframe\">\n",
       "  <thead>\n",
       "    <tr style=\"text-align: right;\">\n",
       "      <th></th>\n",
       "      <th>alg</th>\n",
       "      <th>score</th>\n",
       "      <th>mad</th>\n",
       "      <th>params_json</th>\n",
       "    </tr>\n",
       "  </thead>\n",
       "  <tbody>\n",
       "    <tr>\n",
       "      <th>0</th>\n",
       "      <td>ridge</td>\n",
       "      <td>6.119883</td>\n",
       "      <td>0.187462</td>\n",
       "      <td>{\"alpha\": 0.01, \"fit_intercept\": false, \"norma...</td>\n",
       "    </tr>\n",
       "    <tr>\n",
       "      <th>1</th>\n",
       "      <td>ridge</td>\n",
       "      <td>2.148046</td>\n",
       "      <td>0.107693</td>\n",
       "      <td>{\"alpha\": 1e-05, \"fit_intercept\": true, \"norma...</td>\n",
       "    </tr>\n",
       "    <tr>\n",
       "      <th>0</th>\n",
       "      <td>elastic</td>\n",
       "      <td>6.048844</td>\n",
       "      <td>0.124912</td>\n",
       "      <td>{\"alpha\": 0.0001, \"fit_intercept\": false, \"l1_...</td>\n",
       "    </tr>\n",
       "    <tr>\n",
       "      <th>0</th>\n",
       "      <td>elastic</td>\n",
       "      <td>2.246507</td>\n",
       "      <td>0.017940</td>\n",
       "      <td>{\"alpha\": 0.001, \"fit_intercept\": true, \"l1_ra...</td>\n",
       "    </tr>\n",
       "  </tbody>\n",
       "</table>\n",
       "</div>"
      ],
      "text/plain": [
       "       alg     score       mad  \\\n",
       "0    ridge  6.119883  0.187462   \n",
       "1    ridge  2.148046  0.107693   \n",
       "0  elastic  6.048844  0.124912   \n",
       "0  elastic  2.246507  0.017940   \n",
       "\n",
       "                                         params_json  \n",
       "0  {\"alpha\": 0.01, \"fit_intercept\": false, \"norma...  \n",
       "1  {\"alpha\": 1e-05, \"fit_intercept\": true, \"norma...  \n",
       "0  {\"alpha\": 0.0001, \"fit_intercept\": false, \"l1_...  \n",
       "0  {\"alpha\": 0.001, \"fit_intercept\": true, \"l1_ra...  "
      ]
     },
     "metadata": {},
     "output_type": "execute_result"
    }
   ],
   "source": [
    "display(score_df)"
   ]
  },
  {
   "cell_type": "code",
   "execution_count": 9,
   "metadata": {},
   "outputs": [
    {
     "data": {
      "text/html": [
       "<div>\n",
       "<style scoped>\n",
       "    .dataframe tbody tr th:only-of-type {\n",
       "        vertical-align: middle;\n",
       "    }\n",
       "\n",
       "    .dataframe tbody tr th {\n",
       "        vertical-align: top;\n",
       "    }\n",
       "\n",
       "    .dataframe thead th {\n",
       "        text-align: right;\n",
       "    }\n",
       "</style>\n",
       "<table border=\"1\" class=\"dataframe\">\n",
       "  <thead>\n",
       "    <tr style=\"text-align: right;\">\n",
       "      <th></th>\n",
       "      <th>alg</th>\n",
       "      <th>score</th>\n",
       "      <th>mad</th>\n",
       "      <th>params_json</th>\n",
       "    </tr>\n",
       "  </thead>\n",
       "  <tbody>\n",
       "    <tr>\n",
       "      <th>1</th>\n",
       "      <td>ridge</td>\n",
       "      <td>2.148046</td>\n",
       "      <td>0.107693</td>\n",
       "      <td>{\"alpha\": 1e-05, \"fit_intercept\": true, \"norma...</td>\n",
       "    </tr>\n",
       "    <tr>\n",
       "      <th>0</th>\n",
       "      <td>elastic</td>\n",
       "      <td>2.246507</td>\n",
       "      <td>0.017940</td>\n",
       "      <td>{\"alpha\": 0.001, \"fit_intercept\": true, \"l1_ra...</td>\n",
       "    </tr>\n",
       "    <tr>\n",
       "      <th>0</th>\n",
       "      <td>elastic</td>\n",
       "      <td>6.048844</td>\n",
       "      <td>0.124912</td>\n",
       "      <td>{\"alpha\": 0.0001, \"fit_intercept\": false, \"l1_...</td>\n",
       "    </tr>\n",
       "    <tr>\n",
       "      <th>0</th>\n",
       "      <td>ridge</td>\n",
       "      <td>6.119883</td>\n",
       "      <td>0.187462</td>\n",
       "      <td>{\"alpha\": 0.01, \"fit_intercept\": false, \"norma...</td>\n",
       "    </tr>\n",
       "  </tbody>\n",
       "</table>\n",
       "</div>"
      ],
      "text/plain": [
       "       alg     score       mad  \\\n",
       "1    ridge  2.148046  0.107693   \n",
       "0  elastic  2.246507  0.017940   \n",
       "0  elastic  6.048844  0.124912   \n",
       "0    ridge  6.119883  0.187462   \n",
       "\n",
       "                                         params_json  \n",
       "1  {\"alpha\": 1e-05, \"fit_intercept\": true, \"norma...  \n",
       "0  {\"alpha\": 0.001, \"fit_intercept\": true, \"l1_ra...  \n",
       "0  {\"alpha\": 0.0001, \"fit_intercept\": false, \"l1_...  \n",
       "0  {\"alpha\": 0.01, \"fit_intercept\": false, \"norma...  "
      ]
     },
     "metadata": {},
     "output_type": "execute_result"
    }
   ],
   "source": [
    "score_df = score_df.sort_values(by=\"score\", axis=0)\n",
    "display(score_df)"
   ]
  },
  {
   "cell_type": "code",
   "execution_count": 11,
   "metadata": {},
   "outputs": [],
   "source": [
    "import pandas as pd"
   ]
  },
  {
   "cell_type": "code",
   "execution_count": 12,
   "metadata": {},
   "outputs": [
    {
     "data": {
      "text/html": [
       "<div>\n",
       "<style scoped>\n",
       "    .dataframe tbody tr th:only-of-type {\n",
       "        vertical-align: middle;\n",
       "    }\n",
       "\n",
       "    .dataframe tbody tr th {\n",
       "        vertical-align: top;\n",
       "    }\n",
       "\n",
       "    .dataframe thead th {\n",
       "        text-align: right;\n",
       "    }\n",
       "</style>\n",
       "<table border=\"1\" class=\"dataframe\">\n",
       "  <thead>\n",
       "    <tr style=\"text-align: right;\">\n",
       "      <th></th>\n",
       "      <th>alg</th>\n",
       "      <th>score</th>\n",
       "      <th>mad</th>\n",
       "      <th>params_json</th>\n",
       "    </tr>\n",
       "  </thead>\n",
       "  <tbody>\n",
       "    <tr>\n",
       "      <th>1</th>\n",
       "      <td>ridge</td>\n",
       "      <td>2.148046</td>\n",
       "      <td>0.107693</td>\n",
       "      <td>{\"alpha\": 1e-05, \"fit_intercept\": true, \"norma...</td>\n",
       "    </tr>\n",
       "    <tr>\n",
       "      <th>3</th>\n",
       "      <td>elastic</td>\n",
       "      <td>2.246507</td>\n",
       "      <td>0.017940</td>\n",
       "      <td>{\"alpha\": 0.001, \"fit_intercept\": true, \"l1_ra...</td>\n",
       "    </tr>\n",
       "    <tr>\n",
       "      <th>2</th>\n",
       "      <td>elastic</td>\n",
       "      <td>6.048844</td>\n",
       "      <td>0.124912</td>\n",
       "      <td>{\"alpha\": 0.0001, \"fit_intercept\": false, \"l1_...</td>\n",
       "    </tr>\n",
       "    <tr>\n",
       "      <th>0</th>\n",
       "      <td>ridge</td>\n",
       "      <td>6.119883</td>\n",
       "      <td>0.187462</td>\n",
       "      <td>{\"alpha\": 0.01, \"fit_intercept\": false, \"norma...</td>\n",
       "    </tr>\n",
       "  </tbody>\n",
       "</table>\n",
       "</div>"
      ],
      "text/plain": [
       "       alg     score       mad  \\\n",
       "1    ridge  2.148046  0.107693   \n",
       "3  elastic  2.246507  0.017940   \n",
       "2  elastic  6.048844  0.124912   \n",
       "0    ridge  6.119883  0.187462   \n",
       "\n",
       "                                         params_json  \n",
       "1  {\"alpha\": 1e-05, \"fit_intercept\": true, \"norma...  \n",
       "3  {\"alpha\": 0.001, \"fit_intercept\": true, \"l1_ra...  \n",
       "2  {\"alpha\": 0.0001, \"fit_intercept\": false, \"l1_...  \n",
       "0  {\"alpha\": 0.01, \"fit_intercept\": false, \"norma...  "
      ]
     },
     "metadata": {},
     "output_type": "execute_result"
    }
   ],
   "source": [
    "score_df = pd.read_csv(save_results)\n",
    "score_df = score_df.sort_values(by=\"score\", axis=0)\n",
    "display(score_df)"
   ]
  },
  {
   "cell_type": "code",
   "execution_count": 13,
   "metadata": {},
   "outputs": [
    {
     "data": {
      "text/plain": [
       "alg                                                        ridge\n",
       "score                                                    2.14805\n",
       "mad                                                     0.107693\n",
       "params_json    {\"alpha\": 1e-05, \"fit_intercept\": true, \"norma...\n",
       "Name: 1, dtype: object"
      ]
     },
     "metadata": {},
     "output_type": "display_data"
    }
   ],
   "source": [
    "best = score_df.iloc[0]\n",
    "display(best)\n",
    "from sklearn.linear_model import Ridge\n",
    "model = Ridge(**best[\"params\"])\n"
   ]
  }
 ],
 "metadata": {
  "kernelspec": {
   "display_name": "Python 3",
   "language": "python",
   "name": "python3"
  },
  "language_info": {
   "codemirror_mode": {
    "name": "ipython",
    "version": 3
   },
   "file_extension": ".py",
   "mimetype": "text/x-python",
   "name": "python",
   "nbconvert_exporter": "python",
   "pygments_lexer": "ipython3",
   "version": "3.6.8"
  }
 },
 "nbformat": 4,
 "nbformat_minor": 2
}
