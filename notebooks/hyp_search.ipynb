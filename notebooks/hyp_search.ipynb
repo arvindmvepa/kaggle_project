{
 "cells": [
  {
   "cell_type": "code",
   "execution_count": null,
   "metadata": {},
   "outputs": [],
   "source": [
    "from exp.features import create_train_features\n",
    "from exp.run import run_experiment"
   ]
  },
  {
   "cell_type": "code",
   "execution_count": null,
   "metadata": {
    "scrolled": true
   },
   "outputs": [],
   "source": [
    "X_tr, y_tr = create_train_features(r'C:\\Users\\arvin\\dev\\lanl\\train.csv')"
   ]
  },
  {
   "cell_type": "code",
   "execution_count": null,
   "metadata": {},
   "outputs": [],
   "source": [
    "# example hyper-parameter experiments for different algorithms\n",
    "params={\"lr\": {\"fit_intercept\": [False, True], \"normalize\": [False, True]},\n",
    "       \"ridge\": {\"alpha\": [.000001, .00001, .0001, .001, .01, .1],\n",
    "                 \"fit_intercept\": [False, True], \"normalize\": [False, True]},\n",
    "       \"lasso\": {\"alpha\": [.000001, .00001, .0001, .001, .01, .1],\n",
    "                 \"fit_intercept\": [False, True], \"normalize\": [False, True]},\n",
    "       \"elastic\": {\"alpha\": [.000001, .00001, .0001, .001, .01, .1],\n",
    "                   \"fit_intercept\": [False, True], \"normalize\": [False, True],\n",
    "                  \"l1_ratio\": [.01, .99, .2, .4, .6, .8]},\n",
    "       \"dtreg\": {\"criterion\": [\"mse\", \"friedman_mse\", \"mae\"],\n",
    "                 \"splitter\": [\"best\", \"best\", \"random\"],\n",
    "                \"max_depth\": [None, None, None, 5,10,20,50]},\n",
    "       \"rfreg\": {\"n_estimators\": [5, 10, 50, 100, 200, 100],\n",
    "                 \"criterion\": [\"mse\", \"friedman_mse\", \"mae\"],\n",
    "                 \"splitter\": [\"best\", \"best\", \"random\"],\n",
    "                \"max_depth\": [None, None, None, 5,10,20,50]},\n",
    "       \"abreg\": {\"n_estimators\": [5, 10, 50, 100, 200, 100],\n",
    "                 \"learning_rate \": [1, .9, .5, .1],\n",
    "                 \"loss\": [\"linear\", \"square\", \"exponential\"]},\n",
    "       \"gbreg\": {\"n_estimators\": [5, 10, 50, 100, 200, 100],\n",
    "                 \"learning_rate \": [1, .9, .5, .1],\n",
    "                 \"loss\": [\"ls\", \"lad\", \"huber\", \"quantile\"],\n",
    "                 \"subsample\": [.1, .2, .5, 1.0]}}"
   ]
  },
  {
   "cell_type": "code",
   "execution_count": null,
   "metadata": {},
   "outputs": [],
   "source": [
    "alg = \"ridge\"\n",
    "score_df = run_experiment(X=X_tr, Y=y_tr, alg=alg, alg_params=params[alg], search_type=\"random\", num_searches=2)"
   ]
  },
  {
   "cell_type": "code",
   "execution_count": null,
   "metadata": {},
   "outputs": [],
   "source": [
    "display(score_df)"
   ]
  },
  {
   "cell_type": "code",
   "execution_count": null,
   "metadata": {},
   "outputs": [],
   "source": [
    "alg = \"elastic\"\n",
    "score_df = run_experiment(score_df=score_df, X=X_tr, Y=y_tr, alg=alg, alg_params=params[alg], search_type=\"random\", num_searches=2)"
   ]
  },
  {
   "cell_type": "code",
   "execution_count": null,
   "metadata": {},
   "outputs": [],
   "source": [
    "display(score_df)"
   ]
  },
  {
   "cell_type": "code",
   "execution_count": null,
   "metadata": {},
   "outputs": [],
   "source": [
    "score_df = score_df.sort_values(by=\"score\", axis=0)\n",
    "display(score_df)"
   ]
  },
  {
   "cell_type": "code",
   "execution_count": null,
   "metadata": {},
   "outputs": [],
   "source": [
    "score_df.to_csv(\"results.csv\", index=False)"
   ]
  }
 ],
 "metadata": {
  "kernelspec": {
   "display_name": "Python 3",
   "language": "python",
   "name": "python3"
  },
  "language_info": {
   "codemirror_mode": {
    "name": "ipython",
    "version": 3
   },
   "file_extension": ".py",
   "mimetype": "text/x-python",
   "name": "python",
   "nbconvert_exporter": "python",
   "pygments_lexer": "ipython3",
   "version": "3.6.8"
  }
 },
 "nbformat": 4,
 "nbformat_minor": 2
}
