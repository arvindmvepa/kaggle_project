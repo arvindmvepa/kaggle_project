{
 "cells": [
  {
   "cell_type": "code",
   "execution_count": null,
   "metadata": {},
   "outputs": [],
   "source": [
    "import os\n",
    "import pandas as pd\n",
    "import inspect\n",
    "import kaggle_files"
   ]
  },
  {
   "cell_type": "code",
   "execution_count": null,
   "metadata": {},
   "outputs": [],
   "source": [
    "files_dir = os.path.dirname(inspect.getfile(kaggle_files))\n",
    "submission_dir = os.path.join(files_dir, \"submission\")\n",
    "sample_submission_file = os.path.join(submission_dir, \"sample_submission.csv\")\n",
    "submission = pd.read_csv(sample_submission_file, index_col='seg_id')\n",
    "\n",
    "model_indices = [1731, 1634]\n",
    "random_seeds = [0, 1]\n",
    "n_folds = None\n",
    "shuffle = False\n",
    "\n",
    "total = 0.0\n",
    "for model_index in model_indices:\n",
    "    for rs in random_seeds:\n",
    "        s = 'submission_4194_n_folds_'+str(n_folds)+\"_shuffle_\"+str(shuffle)+\"_\"+str(model_index)+'_seed_'+str(rs)+'.csv'\n",
    "        if os.path.exists(s):\n",
    "            print(s)\n",
    "            new_sub = pd.read_csv(s, index_col='seg_id')\n",
    "            submission['time_to_failure'] = submission['time_to_failure'] + new_sub[\"time_to_failure\"]\n",
    "            total += 1.0\n",
    "print(total)\n",
    "submission['time_to_failure'] = submission['time_to_failure']/total\n",
    "print(submission.mean())\n",
    "print(submission.median())\n",
    "print(submission.head())\n",
    "submission.to_csv('ensemble_submission_4194_n_folds_{}_shuffle_{}_{}_seeds_{}_.csv'.format(str(n_folds), \n",
    "                                                                                           str(shuffle),\n",
    "                                                                                           \"_\".join([str(i) for i in model_indices]),\n",
    "                                                                                           \"_\".join([str(rs) for rs in random_seeds])))"
   ]
  }
 ],
 "metadata": {
  "kernelspec": {
   "display_name": "Python 3",
   "language": "python",
   "name": "python3"
  },
  "language_info": {
   "codemirror_mode": {
    "name": "ipython",
    "version": 3
   },
   "file_extension": ".py",
   "mimetype": "text/x-python",
   "name": "python",
   "nbconvert_exporter": "python",
   "pygments_lexer": "ipython3",
   "version": "3.6.8"
  }
 },
 "nbformat": 4,
 "nbformat_minor": 2
}
