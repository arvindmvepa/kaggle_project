{
 "cells": [
  {
   "cell_type": "code",
   "execution_count": null,
   "metadata": {},
   "outputs": [],
   "source": [
    "from exp.run import run_experiment\n",
    "from exp.mappings import alg_map\n",
    "from exp.train import train_model\n",
    "from exp.features import load_cv_results\n",
    "import pandas as pd\n",
    "import json\n",
    "import numpy as np\n",
    "import os\n",
    "import pickle\n",
    "import inspect\n",
    "import kaggle_files"
   ]
  },
  {
   "cell_type": "markdown",
   "metadata": {},
   "source": [
    "### Load results from CSV File and re-produce models ranked by CV scores"
   ]
  },
  {
   "cell_type": "code",
   "execution_count": null,
   "metadata": {},
   "outputs": [],
   "source": [
    "save_results= \"exp9.csv\"\n",
    "score_df = load_cv_results(save_results)\n",
    "score_df = score_df.sort_values(by=\"cv_score_n_folds_5_shuffle_False_rs_None\", axis=0)"
   ]
  },
  {
   "cell_type": "code",
   "execution_count": null,
   "metadata": {},
   "outputs": [],
   "source": [
    "display(score_df)"
   ]
  },
  {
   "cell_type": "markdown",
   "metadata": {},
   "source": [
    "### Load best model from CSV File"
   ]
  },
  {
   "cell_type": "code",
   "execution_count": null,
   "metadata": {},
   "outputs": [],
   "source": [
    "i = 7\n",
    "k = 0\n",
    "n_folds = 5\n",
    "shuffle = False"
   ]
  },
  {
   "cell_type": "code",
   "execution_count": null,
   "metadata": {},
   "outputs": [],
   "source": [
    "# retrieve top scoring row\n",
    "best = score_df.iloc[i]\n",
    "display(best)\n",
    "\n",
    "# retrieve model parameters from pandas row\n",
    "alg = best[\"alg\"]\n",
    "params_json = best[\"params_json\"]\n",
    "fs = best[\"feature_set\"]\n",
    "\n",
    "print(\"alg: {}\".format(alg))\n",
    "print(\"params_json: {}\".format(params_json))\n",
    "print(\"feature_set: {}\".format(fs))\n",
    "\n",
    "# retrieve relevant values\n",
    "alg_cls = alg_map[alg]\n",
    "params = json.loads(params_json)\n",
    "params.pop(\"bagging_seed\", None)\n",
    "params[\"random_state\"] = k\n",
    "\n",
    "# train algorithm\n",
    "score, mad, oof, preds = train_model(params=params, fs=fs, n_fold=n_folds, shuffle=shuffle, alg=alg, test_eval=True)"
   ]
  },
  {
   "cell_type": "code",
   "execution_count": null,
   "metadata": {},
   "outputs": [],
   "source": [
    "files_dir = os.path.dirname(inspect.getfile(kaggle_files))\n",
    "submission_dir = os.path.join(files_dir, \"submission\")\n",
    "sample_submission_file = os.path.join(submission_dir, \"sample_submission.csv\")\n",
    "submission = pd.read_csv(sample_submission_file, index_col='seg_id')\n",
    "submission['time_to_failure'] = preds\n",
    "print(submission.head())\n",
    "submission.to_csv('submission_n_folds_'+str(n_folds)+\"_shuffle_\"+str(shuffle)+\"_\"+str(i)+'_seed_'+str(k)+'.csv')"
   ]
  }
 ],
 "metadata": {
  "kernelspec": {
   "display_name": "Python 3",
   "language": "python",
   "name": "python3"
  },
  "language_info": {
   "codemirror_mode": {
    "name": "ipython",
    "version": 3
   },
   "file_extension": ".py",
   "mimetype": "text/x-python",
   "name": "python",
   "nbconvert_exporter": "python",
   "pygments_lexer": "ipython3",
   "version": "3.6.8"
  }
 },
 "nbformat": 4,
 "nbformat_minor": 2
}
