{
 "cells": [
  {
   "cell_type": "code",
   "execution_count": null,
   "metadata": {},
   "outputs": [],
   "source": [
    "from exp.run import run_experiment\n",
    "from exp.mappings import alg_map\n",
    "from exp.train import train_model\n",
    "from exp.features import load_cv_results\n",
    "import pandas as pd\n",
    "import json\n",
    "import numpy as np\n",
    "import os\n",
    "import pickle\n",
    "import inspect\n",
    "import kaggle_files\n",
    "\n",
    "pd.set_option('display.max_rows', 1000)\n",
    "pd.set_option('display.max_columns', 1000)"
   ]
  },
  {
   "cell_type": "markdown",
   "metadata": {},
   "source": [
    "### Load results from CSV File and re-produce models ranked by CV scores"
   ]
  },
  {
   "cell_type": "code",
   "execution_count": null,
   "metadata": {
    "scrolled": true
   },
   "outputs": [],
   "source": [
    "save_results= \"exp1.csv\"\n",
    "score_df = load_cv_results(save_results)\n",
    "score_df['filename'] = save_results\n",
    "\n",
    "save_results= \"exp2.csv\"\n",
    "tmp = load_cv_results(save_results)\n",
    "tmp['filename'] = save_results\n",
    "score_df = score_df.append(tmp)\n",
    "\n",
    "save_results= \"exp3.csv\"\n",
    "tmp = load_cv_results(save_results)\n",
    "tmp['filename'] = save_results\n",
    "score_df = score_df.append(tmp)\n",
    "score_df[\"feature_set\"] = \"standard_scaled\"\n",
    "\n",
    "save_results= \"exp4_1.csv\"\n",
    "score_df_ = load_cv_results(save_results)\n",
    "score_df_['filename'] = save_results\n",
    "score_df_ = score_df_.rename(index=str, columns={\"cv_score_n_folds_10_shuffle_True_rs_41\": \"score\"})\n",
    "score_df_['n_folds'] = 10\n",
    "score_df_['shuffle'] = True\n",
    "score_df_['rs'] = 41\n",
    "score_df = score_df.append(score_df_)\n",
    "\n",
    "save_results= \"exp5.csv\"\n",
    "score_df_ = load_cv_results(save_results)\n",
    "score_df_['filename'] = save_results\n",
    "score_df_ = score_df_.rename(index=str, columns={\"cv_score_n_folds_10_shuffle_True_rs_41\": \"score\"})\n",
    "score_df_['n_folds'] = 10\n",
    "score_df_['shuffle'] = True\n",
    "score_df_['rs'] = 41\n",
    "score_df = score_df.append(score_df_)\n",
    "\n",
    "save_results= \"exp6.csv\"\n",
    "score_df_ = load_cv_results(save_results)\n",
    "score_df_['filename'] = save_results\n",
    "score_df_ = score_df_.rename(index=str, columns={\"cv_score_n_folds_10_shuffle_True_rs_41\": \"score\"})\n",
    "score_df_['n_folds'] = 10\n",
    "score_df_['shuffle'] = True\n",
    "score_df_['rs'] = 41\n",
    "score_df = score_df.append(score_df_)\n",
    "\n",
    "save_results= \"exp7.csv\"\n",
    "score_df_ = load_cv_results(save_results)\n",
    "score_df_['filename'] = save_results\n",
    "score_df_ = score_df_.rename(index=str, columns={\"cv_score_n_folds_10_shuffle_True_rs_41\": \"score\"})\n",
    "score_df_['n_folds'] = 10\n",
    "score_df_['shuffle'] = True\n",
    "score_df_['rs'] = 41\n",
    "score_df = score_df.append(score_df_)\n",
    "\n",
    "save_results= \"exp8_1.csv\"\n",
    "score_df_ = load_cv_results(save_results)\n",
    "score_df_['filename'] = save_results\n",
    "score_df_ = score_df_.rename(index=str, columns={\"cv_score_n_folds_10_shuffle_True_rs_41\": \"score\"})\n",
    "score_df_['n_folds'] = 10\n",
    "score_df_['shuffle'] = True\n",
    "score_df_['rs'] = 41\n",
    "score_df = score_df.append(score_df_)\n",
    "\n",
    "save_results= \"exp8_2.csv\"\n",
    "score_df_ = load_cv_results(save_results)\n",
    "score_df_['filename'] = save_results\n",
    "score_df_ = score_df_.rename(index=str, columns={\"cv_score_n_folds_6_shuffle_False_rs_41\": \"score\"})\n",
    "score_df_['n_folds'] = 6\n",
    "score_df_['shuffle'] = False\n",
    "score_df_['rs'] = 41\n",
    "score_df = score_df.append(score_df_)\n",
    "\n",
    "save_results= \"exp9.csv\"\n",
    "score_df_ = load_cv_results(save_results)\n",
    "score_df_['filename'] = save_results\n",
    "score_df_ = score_df_.rename(index=str, columns={\"cv_score_n_folds_5_shuffle_False_rs_None\": \"score\"})\n",
    "score_df_['n_folds'] = 5\n",
    "score_df_['shuffle'] = False\n",
    "score_df_['rs'] = None\n",
    "score_df = score_df.append(score_df_)\n",
    "\n",
    "score_df.reset_index(drop=True, inplace=True)\n",
    "display(score_df)\n",
    "score_df = score_df.sort_values(by=\"score\", axis=0)"
   ]
  },
  {
   "cell_type": "code",
   "execution_count": null,
   "metadata": {
    "scrolled": true
   },
   "outputs": [],
   "source": [
    "display(score_df)"
   ]
  },
  {
   "cell_type": "markdown",
   "metadata": {},
   "source": [
    "### Set Model Parameters"
   ]
  },
  {
   "cell_type": "code",
   "execution_count": null,
   "metadata": {},
   "outputs": [],
   "source": [
    "model_indices = [1731, 1634]\n",
    "random_seeds = [0, 1]\n",
    "n_folds = None\n",
    "shuffle = False"
   ]
  },
  {
   "cell_type": "markdown",
   "metadata": {},
   "source": [
    "### Load Models from CSV File, Train, and Create Submission Files"
   ]
  },
  {
   "cell_type": "code",
   "execution_count": null,
   "metadata": {},
   "outputs": [],
   "source": [
    "for model_index in model_indices:\n",
    "    for rs in random_seeds:\n",
    "        # retrieve top scoring row\n",
    "        best = score_df.loc[model_index]\n",
    "        display(best)\n",
    "\n",
    "        # retrieve model parameters from pandas row\n",
    "        alg = best[\"alg\"]\n",
    "        params_json = best[\"params_json\"]\n",
    "        fs = best[\"feature_set\"]\n",
    "\n",
    "        print(\"alg: {}\".format(alg))\n",
    "        print(\"params_json: {}\".format(params_json))\n",
    "        print(\"feature_set: {}\".format(fs))\n",
    "\n",
    "        # retrieve relevant values\n",
    "        alg_cls = alg_map[alg]\n",
    "        params = json.loads(params_json)\n",
    "        params.pop(\"bagging_seed\", None)\n",
    "        params[\"random_state\"] = rs\n",
    "\n",
    "        # train algorithm\n",
    "        model, preds = train_model(params=params, fs=fs, n_fold=n_folds, shuffle=shuffle, alg=alg, test_eval=True)\n",
    "        \n",
    "        files_dir = os.path.dirname(inspect.getfile(kaggle_files))\n",
    "        submission_dir = os.path.join(files_dir, \"submission\")\n",
    "        sample_submission_file = os.path.join(submission_dir, \"sample_submission.csv\")\n",
    "        submission = pd.read_csv(sample_submission_file, index_col='seg_id')\n",
    "        submission['time_to_failure'] = preds\n",
    "        print(submission.head())\n",
    "        submission.to_csv('submission_4194_n_folds_'+str(n_folds)+\"_shuffle_\"+str(shuffle)+\"_\"+str(model_index)+'_seed_'+str(rs)+'.csv')"
   ]
  },
  {
   "cell_type": "code",
   "execution_count": null,
   "metadata": {},
   "outputs": [],
   "source": []
  }
 ],
 "metadata": {
  "kernelspec": {
   "display_name": "Python 3",
   "language": "python",
   "name": "python3"
  },
  "language_info": {
   "codemirror_mode": {
    "name": "ipython",
    "version": 3
   },
   "file_extension": ".py",
   "mimetype": "text/x-python",
   "name": "python",
   "nbconvert_exporter": "python",
   "pygments_lexer": "ipython3",
   "version": "3.6.8"
  }
 },
 "nbformat": 4,
 "nbformat_minor": 2
}
